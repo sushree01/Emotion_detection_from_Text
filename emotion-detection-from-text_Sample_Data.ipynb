{
 "cells": [
  {
   "cell_type": "code",
   "execution_count": 1,
   "id": "c70f29b9",
   "metadata": {
    "execution": {
     "iopub.execute_input": "2023-01-30T08:58:44.985004Z",
     "iopub.status.busy": "2023-01-30T08:58:44.984318Z",
     "iopub.status.idle": "2023-01-30T08:58:58.593623Z",
     "shell.execute_reply": "2023-01-30T08:58:58.592035Z",
     "shell.execute_reply.started": "2023-01-30T08:58:44.984908Z"
    }
   },
   "outputs": [],
   "source": [
    "from warnings import filterwarnings\n",
    "filterwarnings('ignore')"
   ]
  },
  {
   "cell_type": "code",
   "execution_count": 2,
   "id": "d2c85b20",
   "metadata": {},
   "outputs": [],
   "source": [
    "!pip install transformers -q"
   ]
  },
  {
   "cell_type": "code",
   "execution_count": 3,
   "id": "63a9f67b",
   "metadata": {
    "execution": {
     "iopub.execute_input": "2023-01-30T08:59:13.002434Z",
     "iopub.status.busy": "2023-01-30T08:59:13.001990Z",
     "iopub.status.idle": "2023-01-30T08:59:24.158947Z",
     "shell.execute_reply": "2023-01-30T08:59:24.157698Z",
     "shell.execute_reply.started": "2023-01-30T08:59:13.002397Z"
    }
   },
   "outputs": [],
   "source": [
    "from transformers import pipeline"
   ]
  },
  {
   "cell_type": "code",
   "execution_count": 4,
   "id": "0dc44b2f",
   "metadata": {
    "execution": {
     "iopub.execute_input": "2023-01-30T08:59:25.406559Z",
     "iopub.status.busy": "2023-01-30T08:59:25.405872Z",
     "iopub.status.idle": "2023-01-30T09:00:37.953394Z",
     "shell.execute_reply": "2023-01-30T09:00:37.952329Z",
     "shell.execute_reply.started": "2023-01-30T08:59:25.406516Z"
    }
   },
   "outputs": [
    {
     "name": "stderr",
     "output_type": "stream",
     "text": [
      "All model checkpoint layers were used when initializing TFRobertaForSequenceClassification.\n",
      "\n",
      "All the layers of TFRobertaForSequenceClassification were initialized from the model checkpoint at arpanghoshal/EmoRoBERTa.\n",
      "If your task is similar to the task the model of the checkpoint was trained on, you can already use TFRobertaForSequenceClassification for predictions without further training.\n"
     ]
    }
   ],
   "source": [
    "emotion=pipeline('sentiment-analysis',model='arpanghoshal/EmoRoBERTa')"
   ]
  },
  {
   "cell_type": "code",
   "execution_count": 5,
   "id": "c8f2bdd0",
   "metadata": {
    "execution": {
     "iopub.execute_input": "2023-01-30T09:00:37.956127Z",
     "iopub.status.busy": "2023-01-30T09:00:37.955426Z",
     "iopub.status.idle": "2023-01-30T09:00:37.960199Z",
     "shell.execute_reply": "2023-01-30T09:00:37.959376Z",
     "shell.execute_reply.started": "2023-01-30T09:00:37.956082Z"
    }
   },
   "outputs": [],
   "source": [
    "#Example"
   ]
  },
  {
   "cell_type": "code",
   "execution_count": 6,
   "id": "6ae13f72",
   "metadata": {
    "execution": {
     "iopub.execute_input": "2023-01-30T09:00:37.962249Z",
     "iopub.status.busy": "2023-01-30T09:00:37.961741Z",
     "iopub.status.idle": "2023-01-30T09:00:38.176418Z",
     "shell.execute_reply": "2023-01-30T09:00:38.175453Z",
     "shell.execute_reply.started": "2023-01-30T09:00:37.962193Z"
    }
   },
   "outputs": [],
   "source": [
    "emotion_labels=emotion('I am excited about my new assignment')"
   ]
  },
  {
   "cell_type": "code",
   "execution_count": 7,
   "id": "cd9aaef6",
   "metadata": {
    "execution": {
     "iopub.execute_input": "2023-01-30T09:00:51.050753Z",
     "iopub.status.busy": "2023-01-30T09:00:51.050341Z",
     "iopub.status.idle": "2023-01-30T09:00:51.058696Z",
     "shell.execute_reply": "2023-01-30T09:00:51.057534Z",
     "shell.execute_reply.started": "2023-01-30T09:00:51.050719Z"
    }
   },
   "outputs": [
    {
     "data": {
      "text/plain": [
       "[{'label': 'excitement', 'score': 0.9941380023956299}]"
      ]
     },
     "execution_count": 7,
     "metadata": {},
     "output_type": "execute_result"
    }
   ],
   "source": [
    "emotion_labels"
   ]
  },
  {
   "cell_type": "code",
   "execution_count": 8,
   "id": "d25bab5a",
   "metadata": {
    "execution": {
     "iopub.execute_input": "2023-01-30T09:00:51.679621Z",
     "iopub.status.busy": "2023-01-30T09:00:51.679152Z",
     "iopub.status.idle": "2023-01-30T09:00:51.689834Z",
     "shell.execute_reply": "2023-01-30T09:00:51.688629Z",
     "shell.execute_reply.started": "2023-01-30T09:00:51.679584Z"
    }
   },
   "outputs": [
    {
     "data": {
      "text/plain": [
       "'excitement'"
      ]
     },
     "execution_count": 8,
     "metadata": {},
     "output_type": "execute_result"
    }
   ],
   "source": [
    "emotion_labels[0]['label']"
   ]
  },
  {
   "cell_type": "code",
   "execution_count": 9,
   "id": "f8413b2a",
   "metadata": {
    "execution": {
     "iopub.execute_input": "2023-01-30T09:00:52.361266Z",
     "iopub.status.busy": "2023-01-30T09:00:52.360837Z",
     "iopub.status.idle": "2023-01-30T09:00:52.366510Z",
     "shell.execute_reply": "2023-01-30T09:00:52.365372Z",
     "shell.execute_reply.started": "2023-01-30T09:00:52.361227Z"
    }
   },
   "outputs": [],
   "source": [
    "import pandas as pd"
   ]
  },
  {
   "cell_type": "code",
   "execution_count": 11,
   "id": "341f90d8",
   "metadata": {
    "execution": {
     "iopub.execute_input": "2023-01-30T09:01:15.809063Z",
     "iopub.status.busy": "2023-01-30T09:01:15.808676Z",
     "iopub.status.idle": "2023-01-30T09:01:15.960510Z",
     "shell.execute_reply": "2023-01-30T09:01:15.958674Z",
     "shell.execute_reply.started": "2023-01-30T09:01:15.809032Z"
    }
   },
   "outputs": [],
   "source": [
    "text_df=pd.read_csv('C:/Users/Sushree Jena/Desktop/imarticus/machine learning/extra/emotion_detection/tweet_emotions.csv')"
   ]
  },
  {
   "cell_type": "code",
   "execution_count": 12,
   "id": "98d9f1a2",
   "metadata": {
    "execution": {
     "iopub.execute_input": "2023-01-30T09:01:17.343847Z",
     "iopub.status.busy": "2023-01-30T09:01:17.343473Z",
     "iopub.status.idle": "2023-01-30T09:01:17.351406Z",
     "shell.execute_reply": "2023-01-30T09:01:17.350157Z",
     "shell.execute_reply.started": "2023-01-30T09:01:17.343817Z"
    }
   },
   "outputs": [
    {
     "data": {
      "text/plain": [
       "(40000, 3)"
      ]
     },
     "execution_count": 12,
     "metadata": {},
     "output_type": "execute_result"
    }
   ],
   "source": [
    "text_df.shape"
   ]
  },
  {
   "cell_type": "code",
   "execution_count": 13,
   "id": "f0863dea",
   "metadata": {
    "execution": {
     "iopub.execute_input": "2023-01-30T09:01:18.099337Z",
     "iopub.status.busy": "2023-01-30T09:01:18.098882Z",
     "iopub.status.idle": "2023-01-30T09:01:18.117305Z",
     "shell.execute_reply": "2023-01-30T09:01:18.116421Z",
     "shell.execute_reply.started": "2023-01-30T09:01:18.099298Z"
    }
   },
   "outputs": [
    {
     "data": {
      "text/html": [
       "<div>\n",
       "<style scoped>\n",
       "    .dataframe tbody tr th:only-of-type {\n",
       "        vertical-align: middle;\n",
       "    }\n",
       "\n",
       "    .dataframe tbody tr th {\n",
       "        vertical-align: top;\n",
       "    }\n",
       "\n",
       "    .dataframe thead th {\n",
       "        text-align: right;\n",
       "    }\n",
       "</style>\n",
       "<table border=\"1\" class=\"dataframe\">\n",
       "  <thead>\n",
       "    <tr style=\"text-align: right;\">\n",
       "      <th></th>\n",
       "      <th>tweet_id</th>\n",
       "      <th>sentiment</th>\n",
       "      <th>content</th>\n",
       "    </tr>\n",
       "  </thead>\n",
       "  <tbody>\n",
       "    <tr>\n",
       "      <th>0</th>\n",
       "      <td>1956967341</td>\n",
       "      <td>empty</td>\n",
       "      <td>@tiffanylue i know  i was listenin to bad habi...</td>\n",
       "    </tr>\n",
       "    <tr>\n",
       "      <th>1</th>\n",
       "      <td>1956967666</td>\n",
       "      <td>sadness</td>\n",
       "      <td>Layin n bed with a headache  ughhhh...waitin o...</td>\n",
       "    </tr>\n",
       "    <tr>\n",
       "      <th>2</th>\n",
       "      <td>1956967696</td>\n",
       "      <td>sadness</td>\n",
       "      <td>Funeral ceremony...gloomy friday...</td>\n",
       "    </tr>\n",
       "    <tr>\n",
       "      <th>3</th>\n",
       "      <td>1956967789</td>\n",
       "      <td>enthusiasm</td>\n",
       "      <td>wants to hang out with friends SOON!</td>\n",
       "    </tr>\n",
       "    <tr>\n",
       "      <th>4</th>\n",
       "      <td>1956968416</td>\n",
       "      <td>neutral</td>\n",
       "      <td>@dannycastillo We want to trade with someone w...</td>\n",
       "    </tr>\n",
       "  </tbody>\n",
       "</table>\n",
       "</div>"
      ],
      "text/plain": [
       "     tweet_id   sentiment                                            content\n",
       "0  1956967341       empty  @tiffanylue i know  i was listenin to bad habi...\n",
       "1  1956967666     sadness  Layin n bed with a headache  ughhhh...waitin o...\n",
       "2  1956967696     sadness                Funeral ceremony...gloomy friday...\n",
       "3  1956967789  enthusiasm               wants to hang out with friends SOON!\n",
       "4  1956968416     neutral  @dannycastillo We want to trade with someone w..."
      ]
     },
     "execution_count": 13,
     "metadata": {},
     "output_type": "execute_result"
    }
   ],
   "source": [
    "text_df.head()"
   ]
  },
  {
   "cell_type": "code",
   "execution_count": 14,
   "id": "4ba8a8f7",
   "metadata": {
    "execution": {
     "iopub.execute_input": "2023-01-30T09:01:19.017049Z",
     "iopub.status.busy": "2023-01-30T09:01:19.015945Z",
     "iopub.status.idle": "2023-01-30T09:01:19.027738Z",
     "shell.execute_reply": "2023-01-30T09:01:19.026913Z",
     "shell.execute_reply.started": "2023-01-30T09:01:19.016980Z"
    }
   },
   "outputs": [
    {
     "data": {
      "text/plain": [
       "0        @tiffanylue i know  i was listenin to bad habi...\n",
       "1        Layin n bed with a headache  ughhhh...waitin o...\n",
       "2                      Funeral ceremony...gloomy friday...\n",
       "3                     wants to hang out with friends SOON!\n",
       "4        @dannycastillo We want to trade with someone w...\n",
       "                               ...                        \n",
       "39995                                     @JohnLloydTaylor\n",
       "39996                       Happy Mothers Day  All my love\n",
       "39997    Happy Mother's Day to all the mommies out ther...\n",
       "39998    @niariley WASSUP BEAUTIFUL!!! FOLLOW ME!!  PEE...\n",
       "39999    @mopedronin bullet train from tokyo    the gf ...\n",
       "Name: content, Length: 40000, dtype: object"
      ]
     },
     "execution_count": 14,
     "metadata": {},
     "output_type": "execute_result"
    }
   ],
   "source": [
    "text_df['content']"
   ]
  },
  {
   "cell_type": "code",
   "execution_count": 15,
   "id": "4bb33e9b",
   "metadata": {
    "execution": {
     "iopub.execute_input": "2023-01-30T09:01:19.784698Z",
     "iopub.status.busy": "2023-01-30T09:01:19.784301Z",
     "iopub.status.idle": "2023-01-30T09:01:19.789509Z",
     "shell.execute_reply": "2023-01-30T09:01:19.788579Z",
     "shell.execute_reply.started": "2023-01-30T09:01:19.784665Z"
    }
   },
   "outputs": [],
   "source": [
    "#Finding emotions for top 10 rows"
   ]
  },
  {
   "cell_type": "code",
   "execution_count": 16,
   "id": "773ae281",
   "metadata": {
    "execution": {
     "iopub.execute_input": "2023-01-30T09:01:20.480388Z",
     "iopub.status.busy": "2023-01-30T09:01:20.479671Z",
     "iopub.status.idle": "2023-01-30T09:01:22.523038Z",
     "shell.execute_reply": "2023-01-30T09:01:22.521979Z",
     "shell.execute_reply.started": "2023-01-30T09:01:20.480351Z"
    }
   },
   "outputs": [
    {
     "data": {
      "text/plain": [
       "1     [{'label': 'neutral', 'score': 0.9288991093635...\n",
       "2       [{'label': 'joy', 'score': 0.7030636072158813}]\n",
       "3       [{'label': 'joy', 'score': 0.5057858228683472}]\n",
       "4     [{'label': 'desire', 'score': 0.80342680215835...\n",
       "5     [{'label': 'neutral', 'score': 0.9537406563758...\n",
       "6     [{'label': 'neutral', 'score': 0.3837677538394...\n",
       "7     [{'label': 'approval', 'score': 0.636143803596...\n",
       "8      [{'label': 'love', 'score': 0.9831995964050293}]\n",
       "9     [{'label': 'remorse', 'score': 0.4822776913642...\n",
       "10    [{'label': 'neutral', 'score': 0.8785988688468...\n",
       "Name: content, dtype: object"
      ]
     },
     "execution_count": 16,
     "metadata": {},
     "output_type": "execute_result"
    }
   ],
   "source": [
    "text_df['content'][1:11].apply(emotion)"
   ]
  },
  {
   "cell_type": "code",
   "execution_count": 17,
   "id": "f9d1b8ae",
   "metadata": {
    "execution": {
     "iopub.execute_input": "2023-01-30T09:01:23.269343Z",
     "iopub.status.busy": "2023-01-30T09:01:23.268934Z",
     "iopub.status.idle": "2023-01-30T09:01:23.274302Z",
     "shell.execute_reply": "2023-01-30T09:01:23.272809Z",
     "shell.execute_reply.started": "2023-01-30T09:01:23.269310Z"
    }
   },
   "outputs": [],
   "source": [
    "#creating a custom function to retrieve the emotion label for all the individual rows of the dataframe"
   ]
  },
  {
   "cell_type": "code",
   "execution_count": 18,
   "id": "9bc856c6",
   "metadata": {
    "execution": {
     "iopub.execute_input": "2023-01-30T09:01:23.895092Z",
     "iopub.status.busy": "2023-01-30T09:01:23.894703Z",
     "iopub.status.idle": "2023-01-30T09:01:23.902873Z",
     "shell.execute_reply": "2023-01-30T09:01:23.901516Z",
     "shell.execute_reply.started": "2023-01-30T09:01:23.895059Z"
    }
   },
   "outputs": [],
   "source": [
    "def get_emotion_label(text):\n",
    "    return (emotion(text)[0]['label'])"
   ]
  },
  {
   "cell_type": "code",
   "execution_count": 19,
   "id": "20ed7a89",
   "metadata": {
    "execution": {
     "iopub.execute_input": "2023-01-30T09:01:24.568749Z",
     "iopub.status.busy": "2023-01-30T09:01:24.568340Z",
     "iopub.status.idle": "2023-01-30T09:01:24.573689Z",
     "shell.execute_reply": "2023-01-30T09:01:24.572504Z",
     "shell.execute_reply.started": "2023-01-30T09:01:24.568714Z"
    }
   },
   "outputs": [],
   "source": [
    "#example"
   ]
  },
  {
   "cell_type": "code",
   "execution_count": 20,
   "id": "cc86a2bf",
   "metadata": {
    "execution": {
     "iopub.execute_input": "2023-01-30T09:01:25.703704Z",
     "iopub.status.busy": "2023-01-30T09:01:25.703299Z",
     "iopub.status.idle": "2023-01-30T09:01:25.890497Z",
     "shell.execute_reply": "2023-01-30T09:01:25.889467Z",
     "shell.execute_reply.started": "2023-01-30T09:01:25.703673Z"
    }
   },
   "outputs": [
    {
     "data": {
      "text/plain": [
       "'excitement'"
      ]
     },
     "execution_count": 20,
     "metadata": {},
     "output_type": "execute_result"
    }
   ],
   "source": [
    "get_emotion_label('I am excited about todays match')"
   ]
  },
  {
   "cell_type": "code",
   "execution_count": 22,
   "id": "7223379e",
   "metadata": {},
   "outputs": [],
   "source": [
    "#Let's take a sample of 500 rows and find out the emotions from the text"
   ]
  },
  {
   "cell_type": "code",
   "execution_count": 23,
   "id": "e7b45a5f",
   "metadata": {},
   "outputs": [],
   "source": [
    "sample_df=text_df.sample(n=500)"
   ]
  },
  {
   "cell_type": "code",
   "execution_count": 24,
   "id": "dcaa2c18",
   "metadata": {},
   "outputs": [
    {
     "data": {
      "text/html": [
       "<div>\n",
       "<style scoped>\n",
       "    .dataframe tbody tr th:only-of-type {\n",
       "        vertical-align: middle;\n",
       "    }\n",
       "\n",
       "    .dataframe tbody tr th {\n",
       "        vertical-align: top;\n",
       "    }\n",
       "\n",
       "    .dataframe thead th {\n",
       "        text-align: right;\n",
       "    }\n",
       "</style>\n",
       "<table border=\"1\" class=\"dataframe\">\n",
       "  <thead>\n",
       "    <tr style=\"text-align: right;\">\n",
       "      <th></th>\n",
       "      <th>tweet_id</th>\n",
       "      <th>sentiment</th>\n",
       "      <th>content</th>\n",
       "    </tr>\n",
       "  </thead>\n",
       "  <tbody>\n",
       "    <tr>\n",
       "      <th>29432</th>\n",
       "      <td>1751213900</td>\n",
       "      <td>relief</td>\n",
       "      <td>Back from a long day of working it's good to f...</td>\n",
       "    </tr>\n",
       "    <tr>\n",
       "      <th>33095</th>\n",
       "      <td>1752504222</td>\n",
       "      <td>happiness</td>\n",
       "      <td>@WordyDirts Thanks  your my first lol</td>\n",
       "    </tr>\n",
       "    <tr>\n",
       "      <th>29742</th>\n",
       "      <td>1751325268</td>\n",
       "      <td>love</td>\n",
       "      <td>Home from a day of pampering with mom &amp;amp; di...</td>\n",
       "    </tr>\n",
       "    <tr>\n",
       "      <th>39927</th>\n",
       "      <td>1753903203</td>\n",
       "      <td>happiness</td>\n",
       "      <td>instant-messaging with two of my favourite con...</td>\n",
       "    </tr>\n",
       "    <tr>\n",
       "      <th>5950</th>\n",
       "      <td>1961101498</td>\n",
       "      <td>sadness</td>\n",
       "      <td>it is always sunny on days when i can't possib...</td>\n",
       "    </tr>\n",
       "  </tbody>\n",
       "</table>\n",
       "</div>"
      ],
      "text/plain": [
       "         tweet_id  sentiment  \\\n",
       "29432  1751213900     relief   \n",
       "33095  1752504222  happiness   \n",
       "29742  1751325268       love   \n",
       "39927  1753903203  happiness   \n",
       "5950   1961101498    sadness   \n",
       "\n",
       "                                                 content  \n",
       "29432  Back from a long day of working it's good to f...  \n",
       "33095              @WordyDirts Thanks  your my first lol  \n",
       "29742  Home from a day of pampering with mom &amp; di...  \n",
       "39927  instant-messaging with two of my favourite con...  \n",
       "5950   it is always sunny on days when i can't possib...  "
      ]
     },
     "execution_count": 24,
     "metadata": {},
     "output_type": "execute_result"
    }
   ],
   "source": [
    "sample_df.head()"
   ]
  },
  {
   "cell_type": "code",
   "execution_count": 25,
   "id": "6067d405",
   "metadata": {
    "execution": {
     "iopub.execute_input": "2023-01-30T09:01:26.895072Z",
     "iopub.status.busy": "2023-01-30T09:01:26.894576Z"
    }
   },
   "outputs": [],
   "source": [
    "sample_df['emotion']=sample_df['content'].apply(get_emotion_label)"
   ]
  },
  {
   "cell_type": "code",
   "execution_count": 26,
   "id": "5a193447",
   "metadata": {},
   "outputs": [
    {
     "data": {
      "text/html": [
       "<div>\n",
       "<style scoped>\n",
       "    .dataframe tbody tr th:only-of-type {\n",
       "        vertical-align: middle;\n",
       "    }\n",
       "\n",
       "    .dataframe tbody tr th {\n",
       "        vertical-align: top;\n",
       "    }\n",
       "\n",
       "    .dataframe thead th {\n",
       "        text-align: right;\n",
       "    }\n",
       "</style>\n",
       "<table border=\"1\" class=\"dataframe\">\n",
       "  <thead>\n",
       "    <tr style=\"text-align: right;\">\n",
       "      <th></th>\n",
       "      <th>tweet_id</th>\n",
       "      <th>sentiment</th>\n",
       "      <th>content</th>\n",
       "      <th>emotion</th>\n",
       "    </tr>\n",
       "  </thead>\n",
       "  <tbody>\n",
       "    <tr>\n",
       "      <th>29432</th>\n",
       "      <td>1751213900</td>\n",
       "      <td>relief</td>\n",
       "      <td>Back from a long day of working it's good to f...</td>\n",
       "      <td>curiosity</td>\n",
       "    </tr>\n",
       "    <tr>\n",
       "      <th>33095</th>\n",
       "      <td>1752504222</td>\n",
       "      <td>happiness</td>\n",
       "      <td>@WordyDirts Thanks  your my first lol</td>\n",
       "      <td>gratitude</td>\n",
       "    </tr>\n",
       "    <tr>\n",
       "      <th>29742</th>\n",
       "      <td>1751325268</td>\n",
       "      <td>love</td>\n",
       "      <td>Home from a day of pampering with mom &amp;amp; di...</td>\n",
       "      <td>joy</td>\n",
       "    </tr>\n",
       "    <tr>\n",
       "      <th>39927</th>\n",
       "      <td>1753903203</td>\n",
       "      <td>happiness</td>\n",
       "      <td>instant-messaging with two of my favourite con...</td>\n",
       "      <td>love</td>\n",
       "    </tr>\n",
       "    <tr>\n",
       "      <th>5950</th>\n",
       "      <td>1961101498</td>\n",
       "      <td>sadness</td>\n",
       "      <td>it is always sunny on days when i can't possib...</td>\n",
       "      <td>neutral</td>\n",
       "    </tr>\n",
       "  </tbody>\n",
       "</table>\n",
       "</div>"
      ],
      "text/plain": [
       "         tweet_id  sentiment  \\\n",
       "29432  1751213900     relief   \n",
       "33095  1752504222  happiness   \n",
       "29742  1751325268       love   \n",
       "39927  1753903203  happiness   \n",
       "5950   1961101498    sadness   \n",
       "\n",
       "                                                 content    emotion  \n",
       "29432  Back from a long day of working it's good to f...  curiosity  \n",
       "33095              @WordyDirts Thanks  your my first lol  gratitude  \n",
       "29742  Home from a day of pampering with mom &amp; di...        joy  \n",
       "39927  instant-messaging with two of my favourite con...       love  \n",
       "5950   it is always sunny on days when i can't possib...    neutral  "
      ]
     },
     "execution_count": 26,
     "metadata": {},
     "output_type": "execute_result"
    }
   ],
   "source": [
    "sample_df.head()"
   ]
  },
  {
   "cell_type": "code",
   "execution_count": 27,
   "id": "a66fd9ba",
   "metadata": {},
   "outputs": [],
   "source": [
    "import matplotlib.pyplot as plt\n",
    "import seaborn as sns"
   ]
  },
  {
   "cell_type": "code",
   "execution_count": 42,
   "id": "7fcae360",
   "metadata": {},
   "outputs": [
    {
     "data": {
      "image/png": "[encoded data removed]",
      "text/plain": [
       "<Figure size 1152x576 with 1 Axes>"
      ]
     },
     "metadata": {
      "needs_background": "light"
     },
     "output_type": "display_data"
    }
   ],
   "source": [
    "plt.figure(figsize=(16,8))\n",
    "cp=sns.countplot(x='emotion',data=sample_df,order=sample_df['emotion'].value_counts(ascending=False).index)\n",
    "cp.bar_label(cp.containers[0])\n",
    "plt.xticks(rotation ='vertical')\n",
    "plt.show()"
   ]
  },
  {
   "cell_type": "code",
   "execution_count": null,
   "id": "20b6f4e3",
   "metadata": {},
   "outputs": [],
   "source": []
  }
 ],
 "metadata": {
  "kernelspec": {
   "display_name": "Python 3 (ipykernel)",
   "language": "python",
   "name": "python3"
  },
  "language_info": {
   "codemirror_mode": {
    "name": "ipython",
    "version": 3
   },
   "file_extension": ".py",
   "mimetype": "text/x-python",
   "name": "python",
   "nbconvert_exporter": "python",
   "pygments_lexer": "ipython3",
   "version": "3.9.12"
  }
 },
 "nbformat": 4,
 "nbformat_minor": 5
}
